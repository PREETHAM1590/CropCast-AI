{
 "cells": [
  {
   "cell_type": "markdown",
   "metadata": {},
   "source": [
    "# WeatherCrop AI Platform - Getting Started\n",
    "\n",
    "This notebook demonstrates the basic functionality of the WeatherCrop AI Platform.\n",
    "\n",
    "## Features Covered:\n",
    "- Weather data collection and processing\n",
    "- Rainfall prediction using LSTM/ARIMA ensemble\n",
    "- Soil analysis and health assessment\n",
    "- Crop recommendation system\n",
    "- Flood risk assessment\n",
    "- Yield prediction"
   ]
  },
  {
   "cell_type": "code",
   "execution_count": null,
   "metadata": {},
   "outputs": [],
   "source": [
    "# Import necessary libraries\n",
    "import sys\n",
    "import os\n",
    "sys.path.append('../src')\n",
    "\n",
    "import pandas as pd\n",
    "import numpy as np\n",
    "import matplotlib.pyplot as plt\n",
    "import seaborn as sns\n",
    "from datetime import datetime, timedelta\n",
    "\n",
    "# Set plotting style\n",
    "plt.style.use('seaborn-v0_8')\n",
    "sns.set_palette(\"husl\")\n",
    "\n",
    "print(\"✅ Libraries imported successfully\")"
   ]
  },
  {
   "cell_type": "markdown",
   "metadata": {},
   "source": [
    "## 1. Configuration Setup"
   ]
  },
  {
   "cell_type": "code",
   "execution_count": null,
   "metadata": {},
   "outputs": [],
   "source": [
    "# Load configuration\n",
    "from utils.config import get_config\n",
    "\n",
    "try:\n",
    "    config = get_config()\n",
    "    print(\"✅ Configuration loaded successfully\")\n",
    "    print(f\"📊 Available models: {list(config.config.get('models', {}).keys())}\")\n",
    "except Exception as e:\n",
    "    print(f\"⚠️ Configuration loading failed: {e}\")\n",
    "    print(\"Using default configuration...\")\n",
    "    config = None"
   ]
  },
  {
   "cell_type": "markdown",
   "metadata": {},
   "source": [
    "## 2. Weather Data Collection and Processing"
   ]
  },
  {
   "cell_type": "code",
   "execution_count": null,
   "metadata": {},
   "outputs": [],
   "source": [
    "# Initialize weather data collector\n",
    "from data_processing.weather_data import WeatherDataCollector\n",
    "\n",
    "# Sample location (Delhi, India)\n",
    "sample_location = {\n",
    "    'latitude': 28.6139,\n",
    "    'longitude': 77.2090,\n",
    "    'name': 'Delhi, India'\n",
    "}\n",
    "\n",
    "# Initialize collector\n",
    "weather_config = config.config if config else {}\n",
    "weather_collector = WeatherDataCollector(weather_config)\n",
    "\n",
    "print(\"✅ Weather data collector initialized\")"
   ]
  },
  {
   "cell_type": "code",
   "execution_count": null,
   "metadata": {},
   "outputs": [],
   "source": [
    "# Collect historical weather data\n",
    "start_date = '2020-01-01'\n",
    "end_date = '2023-12-31'\n",
    "\n",
    "print(f\"📊 Collecting weather data from {start_date} to {end_date}...\")\n",
    "weather_data = weather_collector.collect_imd_data(start_date, end_date, sample_location)\n",
    "\n",
    "print(f\"✅ Collected {len(weather_data)} records\")\n",
    "print(f\"📈 Data shape: {weather_data.shape}\")\n",
    "print(f\"📅 Date range: {weather_data['date'].min()} to {weather_data['date'].max()}\")\n",
    "\n",
    "# Display first few records\n",
    "weather_data.head()"
   ]
  },
  {
   "cell_type": "code",
   "execution_count": null,
   "metadata": {},
   "outputs": [],
   "source": [
    "# Process weather data\n",
    "print(\"🔄 Processing weather data...\")\n",
    "processed_data = weather_collector.process_weather_data(weather_data)\n",
    "processed_data = weather_collector.calculate_weather_indices(processed_data)\n",
    "\n",
    "print(f\"✅ Processing completed\")\n",
    "print(f\"📊 Processed data shape: {processed_data.shape}\")\n",
    "print(f\"📋 Columns: {list(processed_data.columns)}\")\n",
    "\n",
    "# Display processed data info\n",
    "processed_data.info()"
   ]
  },
  {
   "cell_type": "markdown",
   "metadata": {},
   "source": [
    "## 3. Data Visualization"
   ]
  },
  {
   "cell_type": "code",
   "execution_count": null,
   "metadata": {},
   "outputs": [],
   "source": [
    "# Create visualizations\n",
    "fig, axes = plt.subplots(2, 2, figsize=(15, 10))\n",
    "fig.suptitle('Weather Data Analysis - Delhi, India', fontsize=16, fontweight='bold')\n",
    "\n",
    "# Temperature trend\n",
    "axes[0, 0].plot(processed_data['date'], processed_data['temperature_celsius'], alpha=0.7, linewidth=0.5)\n",
    "axes[0, 0].plot(processed_data['date'], processed_data['temperature_rolling_30d'], color='red', linewidth=2, label='30-day average')\n",
    "axes[0, 0].set_title('Temperature Trend')\n",
    "axes[0, 0].set_ylabel('Temperature (°C)')\n",
    "axes[0, 0].legend()\n",
    "axes[0, 0].grid(True, alpha=0.3)\n",
    "\n",
    "# Rainfall pattern\n",
    "monthly_rainfall = processed_data.groupby(processed_data['date'].dt.month)['rainfall_mm'].sum()\n",
    "axes[0, 1].bar(monthly_rainfall.index, monthly_rainfall.values, color='skyblue', alpha=0.8)\n",
    "axes[0, 1].set_title('Monthly Rainfall Distribution')\n",
    "axes[0, 1].set_xlabel('Month')\n",
    "axes[0, 1].set_ylabel('Total Rainfall (mm)')\n",
    "axes[0, 1].grid(True, alpha=0.3)\n",
    "\n",
    "# Seasonal temperature distribution\n",
    "if 'season' in processed_data.columns:\n",
    "    sns.boxplot(data=processed_data, x='season', y='temperature_celsius', ax=axes[1, 0])\n",
    "    axes[1, 0].set_title('Temperature Distribution by Season')\n",
    "    axes[1, 0].set_ylabel('Temperature (°C)')\n",
    "    axes[1, 0].tick_params(axis='x', rotation=45)\n",
    "\n",
    "# Drought index over time\n",
    "if 'drought_index' in processed_data.columns:\n",
    "    axes[1, 1].plot(processed_data['date'], processed_data['drought_index'], color='brown', alpha=0.7)\n",
    "    axes[1, 1].axhline(y=0, color='black', linestyle='--', alpha=0.5)\n",
    "    axes[1, 1].fill_between(processed_data['date'], processed_data['drought_index'], 0, \n",
    "                           where=(processed_data['drought_index'] < 0), color='red', alpha=0.3, label='Drought')\n",
    "    axes[1, 1].fill_between(processed_data['date'], processed_data['drought_index'], 0, \n",
    "                           where=(processed_data['drought_index'] > 0), color='blue', alpha=0.3, label='Wet')\n",
    "    axes[1, 1].set_title('Drought Index Over Time')\n",
    "    axes[1, 1].set_ylabel('Drought Index')\n",
    "    axes[1, 1].legend()\n",
    "    axes[1, 1].grid(True, alpha=0.3)\n",
    "\n",
    "plt.tight_layout()\n",
    "plt.show()\n",
    "\n",
    "print(\"📊 Weather data visualizations created\")"
   ]
  },
  {
   "cell_type": "markdown",
   "metadata": {},
   "source": [
    "## 4. Rainfall Prediction Model"
   ]
  },
  {
   "cell_type": "code",
   "execution_count": null,
   "metadata": {},
   "outputs": [],
   "source": [
    "# Initialize rainfall prediction model\n",
    "from models.rainfall_prediction import RainfallPredictor\n",
    "\n",
    "# Model configuration\n",
    "model_config = {\n",
    "    'sequence_length': 60,\n",
    "    'hidden_units': 128,\n",
    "    'dropout_rate': 0.2,\n",
    "    'epochs': 50,  # Reduced for demo\n",
    "    'batch_size': 32,\n",
    "    'ensemble_weights': [0.6, 0.4]\n",
    "}\n",
    "\n",
    "rainfall_predictor = RainfallPredictor(model_config)\n",
    "print(\"✅ Rainfall prediction model initialized\")"
   ]
  },
  {
   "cell_type": "code",
   "execution_count": null,
   "metadata": {},
   "outputs": [],
   "source": [
    "# Train the model (this will use mock training for demo)\n",
    "print(\"🔄 Training rainfall prediction model...\")\n",
    "training_results = rainfall_predictor.train(processed_data, target_column='rainfall_mm')\n",
    "\n",
    "print(\"✅ Model training completed\")\n",
    "print(f\"📊 Training results: {training_results}\")"
   ]
  },
  {
   "cell_type": "code",
   "execution_count": null,
   "metadata": {},
   "outputs": [],
   "source": [
    "# Make predictions\n",
    "print(\"🔮 Making rainfall predictions for next 30 days...\")\n",
    "predictions = rainfall_predictor.predict(processed_data, steps=30)\n",
    "\n",
    "print(\"✅ Predictions completed\")\n",
    "print(f\"📈 Predicted rainfall for next 30 days:\")\n",
    "print(f\"   Average: {np.mean(predictions['predictions']):.2f} mm/day\")\n",
    "print(f\"   Total: {np.sum(predictions['predictions']):.2f} mm\")\n",
    "print(f\"   Model accuracy: {predictions['model_accuracy']:.2%}\")"
   ]
  },
  {
   "cell_type": "code",
   "execution_count": null,
   "metadata": {},
   "outputs": [],
   "source": [
    "# Visualize predictions\n",
    "fig, ax = plt.subplots(1, 1, figsize=(12, 6))\n",
    "\n",
    "# Plot historical data (last 60 days)\n",
    "recent_data = processed_data.tail(60)\n",
    "ax.plot(recent_data['date'], recent_data['rainfall_mm'], \n",
    "        label='Historical Rainfall', color='blue', alpha=0.7)\n",
    "\n",
    "# Plot predictions\n",
    "pred_dates = pd.to_datetime(predictions['prediction_dates'])\n",
    "ax.plot(pred_dates, predictions['predictions'], \n",
    "        label='LSTM+ARIMA Ensemble', color='red', linewidth=2)\n",
    "ax.plot(pred_dates, predictions['lstm_predictions'], \n",
    "        label='LSTM Only', color='orange', alpha=0.7, linestyle='--')\n",
    "ax.plot(pred_dates, predictions['arima_predictions'], \n",
    "        label='ARIMA Only', color='green', alpha=0.7, linestyle='--')\n",
    "\n",
    "# Add confidence intervals\n",
    "ax.fill_between(pred_dates, predictions['confidence_lower'], predictions['confidence_upper'], \n",
    "                alpha=0.2, color='red', label='95% Confidence Interval')\n",
    "\n",
    "ax.set_title('Rainfall Prediction - Next 30 Days', fontsize=14, fontweight='bold')\n",
    "ax.set_xlabel('Date')\n",
    "ax.set_ylabel('Rainfall (mm)')\n",
    "ax.legend()\n",
    "ax.grid(True, alpha=0.3)\n",
    "\n",
    "plt.xticks(rotation=45)\n",
    "plt.tight_layout()\n",
    "plt.show()\n",
    "\n",
    "print(\"📊 Rainfall prediction visualization created\")"
   ]
  },
  {
   "cell_type": "markdown",
   "metadata": {},
   "source": [
    "## 5. API Testing"
   ]
  },
  {
   "cell_type": "code",
   "execution_count": null,
   "metadata": {},
   "outputs": [],
   "source": [
    "# Test API endpoints (if server is running)\n",
    "import requests\n",
    "import json\n",
    "\n",
    "# API base URL\n",
    "API_BASE = \"http://localhost:8000/api/v1\"\n",
    "\n",
    "def test_api_endpoint(endpoint, method='GET', data=None):\n",
    "    \"\"\"Test an API endpoint\"\"\"\n",
    "    try:\n",
    "        url = f\"{API_BASE}{endpoint}\"\n",
    "        if method == 'GET':\n",
    "            response = requests.get(url, timeout=10)\n",
    "        elif method == 'POST':\n",
    "            response = requests.post(url, json=data, timeout=10)\n",
    "        \n",
    "        if response.status_code == 200:\n",
    "            return response.json()\n",
    "        else:\n",
    "            return f\"Error {response.status_code}: {response.text}\"\n",
    "    except requests.exceptions.ConnectionError:\n",
    "        return \"API server not running. Start with: python src/main.py\"\n",
    "    except Exception as e:\n",
    "        return f\"Error: {e}\"\n",
    "\n",
    "print(\"🧪 Testing API endpoints...\")\n",
    "print(\"Note: Make sure the API server is running (python src/main.py)\")\n",
    "print()\n",
    "\n",
    "# Test health endpoint\n",
    "health_result = test_api_endpoint(\"/../../health\")\n",
    "print(f\"Health Check: {health_result}\")\n",
    "print()"
   ]
  },
  {
   "cell_type": "code",
   "execution_count": null,
   "metadata": {},
   "outputs": [],
   "source": [
    "# Test weather prediction endpoint\n",
    "weather_request = {\n",
    "    \"location\": {\n",
    "        \"latitude\": 28.6139,\n",
    "        \"longitude\": 77.2090,\n",
    "        \"location_name\": \"Delhi, India\"\n",
    "    },\n",
    "    \"prediction_days\": 7,\n",
    "    \"include_confidence\": True\n",
    "}\n",
    "\n",
    "weather_result = test_api_endpoint(\"/weather/predict-rainfall\", method='POST', data=weather_request)\n",
    "print(f\"Weather Prediction: {json.dumps(weather_result, indent=2) if isinstance(weather_result, dict) else weather_result}\")\n",
    "print()"
   ]
  },
  {
   "cell_type": "markdown",
   "metadata": {},
   "source": [
    "## 6. Summary and Next Steps"
   ]
  },
  {
   "cell_type": "code",
   "execution_count": null,
   "metadata": {},
   "outputs": [],
   "source": [
    "print(\"🎉 WeatherCrop AI Platform Demo Completed!\")\n",
    "print()\n",
    "print(\"✅ What we accomplished:\")\n",
    "print(\"   • Loaded and processed weather data\")\n",
    "print(\"   • Calculated weather indices and patterns\")\n",
    "print(\"   • Trained rainfall prediction model\")\n",
    "print(\"   • Generated 30-day rainfall forecasts\")\n",
    "print(\"   • Created data visualizations\")\n",
    "print(\"   • Tested API endpoints\")\n",
    "print()\n",
    "print(\"🚀 Next Steps:\")\n",
    "print(\"   1. Integrate real weather data sources (IMD, ISRO Bhuvan)\")\n",
    "print(\"   2. Implement flood risk assessment model\")\n",
    "print(\"   3. Build soil analysis computer vision system\")\n",
    "print(\"   4. Develop crop recommendation engine\")\n",
    "print(\"   5. Create yield prediction models\")\n",
    "print(\"   6. Build web dashboard interface\")\n",
    "print(\"   7. Deploy to production environment\")\n",
    "print()\n",
    "print(\"📚 Additional Resources:\")\n",
    "print(\"   • API Documentation: http://localhost:8000/docs\")\n",
    "print(\"   • Configuration: config/config.yaml\")\n",
    "print(\"   • Models: src/models/\")\n",
    "print(\"   • Data Processing: src/data_processing/\")\n",
    "print(\"   • Notebooks: notebooks/\")"
   ]
  }
 ],
 "metadata": {
  "kernelspec": {
   "display_name": "Python 3",
   "language": "python",
   "name": "python3"
  },
  "language_info": {
   "codemirror_mode": {
    "name": "ipython",
    "version": 3
   },
   "file_extension": ".py",
   "mimetype": "text/x-python",
   "name": "python",
   "nbconvert_exporter": "python",
   "pygments_lexer": "ipython3",
   "version": "3.8.0"
  }
 },
 "nbformat": 4,
 "nbformat_minor": 4
}
